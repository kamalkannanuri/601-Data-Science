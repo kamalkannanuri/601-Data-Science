{
 "cells": [
  {
   "cell_type": "code",
   "execution_count": 1,
   "metadata": {},
   "outputs": [
    {
     "name": "stdout",
     "output_type": "stream",
     "text": [
      "Defaulting to user installation because normal site-packages is not writeable\n",
      "Requirement already satisfied: browserhistory in c:\\users\\sonia\\appdata\\roaming\\python\\python38\\site-packages (0.1.2)\n"
     ]
    }
   ],
   "source": [
    " !pip install browserhistory"
   ]
  },
  {
   "cell_type": "code",
   "execution_count": 2,
   "metadata": {},
   "outputs": [],
   "source": [
    " import browserhistory as bh"
   ]
  },
  {
   "cell_type": "code",
   "execution_count": 3,
   "metadata": {},
   "outputs": [],
   "source": [
    "dict_obj = bh.get_browserhistory()\n",
    "bh.write_browserhistory_csv()"
   ]
  },
  {
   "cell_type": "code",
   "execution_count": 4,
   "metadata": {},
   "outputs": [],
   "source": [
    "import pandas as pd"
   ]
  },
  {
   "cell_type": "code",
   "execution_count": 5,
   "metadata": {},
   "outputs": [],
   "source": [
    "df = pd.read_csv('chrome_history.csv', header=None, names=['Site','Title', 'Time'])"
   ]
  },
  {
   "cell_type": "code",
   "execution_count": 6,
   "metadata": {},
   "outputs": [
    {
     "data": {
      "text/html": [
       "<div>\n",
       "<style scoped>\n",
       "    .dataframe tbody tr th:only-of-type {\n",
       "        vertical-align: middle;\n",
       "    }\n",
       "\n",
       "    .dataframe tbody tr th {\n",
       "        vertical-align: top;\n",
       "    }\n",
       "\n",
       "    .dataframe thead th {\n",
       "        text-align: right;\n",
       "    }\n",
       "</style>\n",
       "<table border=\"1\" class=\"dataframe\">\n",
       "  <thead>\n",
       "    <tr style=\"text-align: right;\">\n",
       "      <th></th>\n",
       "      <th>Site</th>\n",
       "      <th>Title</th>\n",
       "      <th>Time</th>\n",
       "    </tr>\n",
       "  </thead>\n",
       "  <tbody>\n",
       "    <tr>\n",
       "      <th>0</th>\n",
       "      <td>https://www.cmu.edu/news/stories/archives/2015...</td>\n",
       "      <td>Carnegie Mellon Developing Online Tools To Det...</td>\n",
       "      <td>2021-03-23 21:07:12</td>\n",
       "    </tr>\n",
       "    <tr>\n",
       "      <th>1</th>\n",
       "      <td>https://github.com/soniamann2011/DS601/blob/ma...</td>\n",
       "      <td>DS601/BrowserHistory_Preparation.ipynb at main...</td>\n",
       "      <td>2021-03-23 21:07:10</td>\n",
       "    </tr>\n",
       "    <tr>\n",
       "      <th>2</th>\n",
       "      <td>https://raw.githubusercontent.com/msaricaumbc/...</td>\n",
       "      <td>NaN</td>\n",
       "      <td>2021-03-23 21:07:10</td>\n",
       "    </tr>\n",
       "    <tr>\n",
       "      <th>3</th>\n",
       "      <td>https://github.com/soniamann2011/DS601/tree/ma...</td>\n",
       "      <td>DS601/week4 at main · soniamann2011/DS601</td>\n",
       "      <td>2021-03-23 20:58:06</td>\n",
       "    </tr>\n",
       "    <tr>\n",
       "      <th>4</th>\n",
       "      <td>https://github.com/soniamann2011/DS601/blob/ma...</td>\n",
       "      <td>DS601/week5.ipynb at main · soniamann2011/DS601</td>\n",
       "      <td>2021-03-23 20:57:56</td>\n",
       "    </tr>\n",
       "  </tbody>\n",
       "</table>\n",
       "</div>"
      ],
      "text/plain": [
       "                                                Site  \\\n",
       "0  https://www.cmu.edu/news/stories/archives/2015...   \n",
       "1  https://github.com/soniamann2011/DS601/blob/ma...   \n",
       "2  https://raw.githubusercontent.com/msaricaumbc/...   \n",
       "3  https://github.com/soniamann2011/DS601/tree/ma...   \n",
       "4  https://github.com/soniamann2011/DS601/blob/ma...   \n",
       "\n",
       "                                               Title                 Time  \n",
       "0  Carnegie Mellon Developing Online Tools To Det...  2021-03-23 21:07:12  \n",
       "1  DS601/BrowserHistory_Preparation.ipynb at main...  2021-03-23 21:07:10  \n",
       "2                                                NaN  2021-03-23 21:07:10  \n",
       "3          DS601/week4 at main · soniamann2011/DS601  2021-03-23 20:58:06  \n",
       "4    DS601/week5.ipynb at main · soniamann2011/DS601  2021-03-23 20:57:56  "
      ]
     },
     "execution_count": 6,
     "metadata": {},
     "output_type": "execute_result"
    }
   ],
   "source": [
    "df.head()"
   ]
  },
  {
   "cell_type": "code",
   "execution_count": 7,
   "metadata": {},
   "outputs": [
    {
     "data": {
      "text/html": [
       "<div>\n",
       "<style scoped>\n",
       "    .dataframe tbody tr th:only-of-type {\n",
       "        vertical-align: middle;\n",
       "    }\n",
       "\n",
       "    .dataframe tbody tr th {\n",
       "        vertical-align: top;\n",
       "    }\n",
       "\n",
       "    .dataframe thead th {\n",
       "        text-align: right;\n",
       "    }\n",
       "</style>\n",
       "<table border=\"1\" class=\"dataframe\">\n",
       "  <thead>\n",
       "    <tr style=\"text-align: right;\">\n",
       "      <th></th>\n",
       "      <th>Site</th>\n",
       "      <th>Title</th>\n",
       "      <th>Time</th>\n",
       "    </tr>\n",
       "  </thead>\n",
       "  <tbody>\n",
       "    <tr>\n",
       "      <th>4035</th>\n",
       "      <td>https://webauth.umbc.edu/idp/authn/wauthn.jsp?...</td>\n",
       "      <td>NaN</td>\n",
       "      <td>2021-02-20 19:47:44</td>\n",
       "    </tr>\n",
       "    <tr>\n",
       "      <th>4036</th>\n",
       "      <td>https://webauth.umbc.edu/idp/profile/SAML2/Red...</td>\n",
       "      <td>NaN</td>\n",
       "      <td>2021-02-20 19:47:44</td>\n",
       "    </tr>\n",
       "    <tr>\n",
       "      <th>4037</th>\n",
       "      <td>https://www.google.com/search?q=whatsapp+web&amp;r...</td>\n",
       "      <td>whatsapp web - Google Search</td>\n",
       "      <td>2021-02-20 13:30:17</td>\n",
       "    </tr>\n",
       "    <tr>\n",
       "      <th>4038</th>\n",
       "      <td>https://my.umbc.edu/login?return_url=https%3A%...</td>\n",
       "      <td>myUMBC: Select an account log in with · myUMBC</td>\n",
       "      <td>2021-02-17 17:02:42</td>\n",
       "    </tr>\n",
       "    <tr>\n",
       "      <th>4039</th>\n",
       "      <td>https://www.google.com/search?q=my+umbc&amp;rlz=1C...</td>\n",
       "      <td>my umbc - Google Search</td>\n",
       "      <td>2021-02-17 16:59:58</td>\n",
       "    </tr>\n",
       "  </tbody>\n",
       "</table>\n",
       "</div>"
      ],
      "text/plain": [
       "                                                   Site  \\\n",
       "4035  https://webauth.umbc.edu/idp/authn/wauthn.jsp?...   \n",
       "4036  https://webauth.umbc.edu/idp/profile/SAML2/Red...   \n",
       "4037  https://www.google.com/search?q=whatsapp+web&r...   \n",
       "4038  https://my.umbc.edu/login?return_url=https%3A%...   \n",
       "4039  https://www.google.com/search?q=my+umbc&rlz=1C...   \n",
       "\n",
       "                                               Title                 Time  \n",
       "4035                                             NaN  2021-02-20 19:47:44  \n",
       "4036                                             NaN  2021-02-20 19:47:44  \n",
       "4037                    whatsapp web - Google Search  2021-02-20 13:30:17  \n",
       "4038  myUMBC: Select an account log in with · myUMBC  2021-02-17 17:02:42  \n",
       "4039                         my umbc - Google Search  2021-02-17 16:59:58  "
      ]
     },
     "execution_count": 7,
     "metadata": {},
     "output_type": "execute_result"
    }
   ],
   "source": [
    "df.tail()"
   ]
  },
  {
   "cell_type": "code",
   "execution_count": 8,
   "metadata": {},
   "outputs": [
    {
     "data": {
      "text/plain": [
       "Site       0\n",
       "Title    554\n",
       "Time       0\n",
       "dtype: int64"
      ]
     },
     "execution_count": 8,
     "metadata": {},
     "output_type": "execute_result"
    }
   ],
   "source": [
    "df.isna().sum()"
   ]
  },
  {
   "cell_type": "code",
   "execution_count": 9,
   "metadata": {},
   "outputs": [
    {
     "name": "stdout",
     "output_type": "stream",
     "text": [
      "www.example.test\n",
      "www.test.com.eu\n"
     ]
    }
   ],
   "source": [
    "from urllib.parse import urlparse\n",
    "\n",
    "print(urlparse('http://www.example.test/foo/bar').netloc) # --> www.example.test\n",
    "print(urlparse('http://www.test.com.eu/ters').netloc) # --> www.example.test"
   ]
  },
  {
   "cell_type": "code",
   "execution_count": 10,
   "metadata": {},
   "outputs": [],
   "source": [
    "def get_domain(url):\n",
    "    domain = urlparse(url).netloc\n",
    " \n",
    "    return domain\n",
    "        "
   ]
  },
  {
   "cell_type": "code",
   "execution_count": 11,
   "metadata": {},
   "outputs": [],
   "source": [
    "df['domain'] = [ get_domain(s)  for s in df['Site'] ]"
   ]
  },
  {
   "cell_type": "code",
   "execution_count": 12,
   "metadata": {
    "scrolled": false
   },
   "outputs": [],
   "source": [
    "df.drop('Site', axis=1, inplace=True) # drop Site column & update the current df object\n",
    "df.drop('Title', axis=1, inplace=True) # drop Site column & update the current df object"
   ]
  },
  {
   "cell_type": "code",
   "execution_count": 13,
   "metadata": {},
   "outputs": [
    {
     "data": {
      "text/plain": [
       "0                     www.cmu.edu\n",
       "1                      github.com\n",
       "2       raw.githubusercontent.com\n",
       "3                      github.com\n",
       "4                      github.com\n",
       "                  ...            \n",
       "4035             webauth.umbc.edu\n",
       "4036             webauth.umbc.edu\n",
       "4037               www.google.com\n",
       "4038                  my.umbc.edu\n",
       "4039               www.google.com\n",
       "Name: domain, Length: 4040, dtype: object"
      ]
     },
     "execution_count": 13,
     "metadata": {},
     "output_type": "execute_result"
    }
   ],
   "source": [
    "df['domain']"
   ]
  },
  {
   "cell_type": "code",
   "execution_count": null,
   "metadata": {},
   "outputs": [],
   "source": []
  },
  {
   "cell_type": "code",
   "execution_count": 14,
   "metadata": {},
   "outputs": [],
   "source": [
    "# clean data if you need to!!!!! \n",
    "\n"
   ]
  },
  {
   "cell_type": "code",
   "execution_count": 15,
   "metadata": {},
   "outputs": [],
   "source": [
    "# write to csv with a different name\n",
    "\n",
    "df.to_csv('history_cleaned.csv', index=False)"
   ]
  },
  {
   "cell_type": "markdown",
   "metadata": {},
   "source": [
    "## DO NOT COMMIT THIS NOTEBOOK or `chrome_history.csv` !!!"
   ]
  },
  {
   "cell_type": "code",
   "execution_count": null,
   "metadata": {},
   "outputs": [],
   "source": []
  }
 ],
 "metadata": {
  "kernelspec": {
   "display_name": "Python 3",
   "language": "python",
   "name": "python3"
  },
  "language_info": {
   "codemirror_mode": {
    "name": "ipython",
    "version": 3
   },
   "file_extension": ".py",
   "mimetype": "text/x-python",
   "name": "python",
   "nbconvert_exporter": "python",
   "pygments_lexer": "ipython3",
   "version": "3.8.5"
  },
  "varInspector": {
   "cols": {
    "lenName": 16,
    "lenType": 16,
    "lenVar": 40
   },
   "kernels_config": {
    "python": {
     "delete_cmd_postfix": "",
     "delete_cmd_prefix": "del ",
     "library": "var_list.py",
     "varRefreshCmd": "print(var_dic_list())"
    },
    "r": {
     "delete_cmd_postfix": ") ",
     "delete_cmd_prefix": "rm(",
     "library": "var_list.r",
     "varRefreshCmd": "cat(var_dic_list()) "
    }
   },
   "types_to_exclude": [
    "module",
    "function",
    "builtin_function_or_method",
    "instance",
    "_Feature"
   ],
   "window_display": false
  }
 },
 "nbformat": 4,
 "nbformat_minor": 2
}
