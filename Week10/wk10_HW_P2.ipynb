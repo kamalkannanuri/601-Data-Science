{
 "cells": [
  {
   "cell_type": "code",
   "execution_count": 1,
   "metadata": {},
   "outputs": [],
   "source": [
    "import os\n",
    "import zipfile\n",
    "import requests\n",
    "import re\n",
    "from nltk.corpus import stopwords\n",
    "import string\n",
    "import docx"
   ]
  },
  {
   "cell_type": "code",
   "execution_count": 2,
   "metadata": {},
   "outputs": [],
   "source": [
    "from file_processor import*"
   ]
  },
  {
   "cell_type": "code",
   "execution_count": 3,
   "metadata": {},
   "outputs": [],
   "source": [
    "class Processor(FileProcessor):\n",
    "    def process_file(self, file_name):\n",
    "        \"\"\"\n",
    "        abstract method\n",
    "        \n",
    "        Parameters: file_name\n",
    "        Returns: List of unique words ['test', 'hair']\n",
    "        \"\"\"\n",
    "        regex_url = r\"^https?:\\/\\/.*[\\r\\n]*\"\n",
    "        regex_phone_no = r\"\\(?\\d{3}\\)?[-.\\s]\\d{3}[-.\\s]\\d{4}\"\n",
    "        stop_words = set(stopwords.words('english'))\n",
    "        punctuation=list(string.punctuation)\n",
    "        \n",
    "        if file_name.endswith('.txt'):\n",
    "            with open(file_name, 'r', encoding = 'utf8') as file :\n",
    "                words = file.read().lower()\n",
    "                words = words.split()\n",
    "      \n",
    "        elif file_name.endswith('.docx'):\n",
    "            file = docx.Document(file_name)\n",
    "            result = [i.text for i in file.paragraphs]\n",
    "            words = \" \".join(result).lower()\n",
    "            words = words.split()\n",
    "        while \"\" in words:\n",
    "            words.remove(\"\")\n",
    "            \n",
    "#Removing numbers from the word\n",
    "        words = [re.sub('[0-9]', '', i) for i in words]\n",
    "#Removing Junk Character\n",
    "        words = [re.sub('\\ufeff', '', s, flags=re.MULTILINE) for s in words]   #to remove the encoding char map codec error      \n",
    "#Removing Stop Words\n",
    "        words = [w for w in words if not w in stop_words] \n",
    "#Removing URL \n",
    "        urlremoved = [re.sub(regex_url, '', s, flags=re.MULTILINE) for s in words]\n",
    "#Removing Phone number\n",
    "        without_phone_no = [re.sub(regex_phone_no, '', s) for s in urlremoved]\n",
    "#Removing Unique Words\n",
    "        uniqueWords = []              \n",
    "        unique_words = set(without_phone_no)\n",
    "        for word in unique_words:\n",
    "            uniqueWords.append(word)\n",
    "#Removing punctuation            \n",
    "        without_punctuation = [''.join(c for c in s if c not in punctuation) for s in uniqueWords]\n",
    "        without_punctuation = [s for s in without_punctuation if len(s) > 1]        \n",
    "\n",
    "        return without_punctuation "
   ]
  },
  {
   "cell_type": "code",
   "execution_count": 4,
   "metadata": {},
   "outputs": [],
   "source": [
    "FileZip1 = Processor()"
   ]
  },
  {
   "cell_type": "code",
   "execution_count": 5,
   "metadata": {},
   "outputs": [
    {
     "name": "stdout",
     "output_type": "stream",
     "text": [
      "Processing:  52256-0.txt\n",
      "Processing:  53031-0.txt\n",
      "Processing:  58108-0.txt\n",
      "Processing:  blind_text.txt\n",
      "Processing:  dr_yawn.txt\n",
      "Processing:  how_rubber_goods_are_made.txt\n",
      "Processing:  most_boring_ever.txt\n",
      "Processing:  most_boring_part2.txt\n",
      "Processing:  pg12814.txt\n",
      "Processing:  pg14895.txt\n",
      "Processing:  pg43994.txt\n",
      "Processing:  random_text.txt\n",
      "Processing:  smiley_the_bunny.txt\n",
      "Processing:  week_10_document1.docx\n",
      "Processing:  week_10_document2.docx\n",
      "Saving File\n",
      "Process Finished\n"
     ]
    }
   ],
   "source": [
    "FileZip1.start()"
   ]
  },
  {
   "cell_type": "code",
   "execution_count": null,
   "metadata": {},
   "outputs": [],
   "source": []
  }
 ],
 "metadata": {
  "kernelspec": {
   "display_name": "Python 3",
   "language": "python",
   "name": "python3"
  },
  "language_info": {
   "codemirror_mode": {
    "name": "ipython",
    "version": 3
   },
   "file_extension": ".py",
   "mimetype": "text/x-python",
   "name": "python",
   "nbconvert_exporter": "python",
   "pygments_lexer": "ipython3",
   "version": "3.8.5"
  }
 },
 "nbformat": 4,
 "nbformat_minor": 4
}
