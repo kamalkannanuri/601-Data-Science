{
 "cells": [
  {
   "cell_type": "markdown",
   "metadata": {},
   "source": [
    "#### Simulating a Fair Die and also a Biased Die. \n",
    "#### Visualization for the comparing the outcomes of both the Dice.\n"
   ]
  },
  {
   "cell_type": "code",
   "execution_count": 4,
   "metadata": {},
   "outputs": [],
   "source": [
    "#importing libraries\n",
    "import random\n",
    "import pandas as pd\n",
    "import matplotlib.pyplot as plt\n",
    "import seaborn as sns"
   ]
  },
  {
   "cell_type": "markdown",
   "metadata": {},
   "source": [
    "### Takes the user input and gives outcomes for the Fair dice\n",
    " "
   ]
  },
  {
   "cell_type": "code",
   "execution_count": null,
   "metadata": {},
   "outputs": [],
   "source": [
    "\n",
    "test_data=[0,0,0,0,0,0] #this will keep track of the results\n",
    "n=int(input(\"Enter number: \")) #asking user to input number of times\n",
    "for i in range(n):\n",
    "    result=random.randint(1,6)\n",
    "    test_data[result-1]=test_data[result-1]+1\n",
    "for i in range(0,6):\n",
    "    print(\"number of \", i+1, \"'s:\", test_data[i])"
   ]
  },
  {
   "cell_type": "markdown",
   "metadata": {},
   "source": [
    "### This will gives the outcomes for the Biased dice\n"
   ]
  },
  {
   "cell_type": "code",
   "execution_count": null,
   "metadata": {},
   "outputs": [],
   "source": [
    "test_data1=[0,0,0,0,0,0]\n",
    "results=[1,1,1,2,2,2,3,3,3,4,4,4,5,5,5,6,6,6,6,6] #Given Wieghted probabilities \n",
    "for i in range(n):    \n",
    "    index= random.randint(0,19) #since we have 20 outcomes in the results.\n",
    "    result= results[index]\n",
    "    data1[result-1]=test_data1[result-1]+1\n",
    "for i in range(0,6):\n",
    "    print(\"number of \", i+1, \"'s:\", test_data1[i])"
   ]
  },
  {
   "cell_type": "markdown",
   "metadata": {},
   "source": [
    " ### keeping all the outcomes we got in a data frame, so that comparision can be done through it\n",
    " "
   ]
  },
  {
   "cell_type": "code",
   "execution_count": null,
   "metadata": {},
   "outputs": [],
   "source": [
    "df1 = pd.DataFrame(test_data, columns=['Fair'])\n",
    "df1"
   ]
  },
  {
   "cell_type": "code",
   "execution_count": null,
   "metadata": {},
   "outputs": [],
   "source": [
    "df2 = pd.DataFrame(test_data1, columns=['Biased'])\n",
    "df2"
   ]
  },
  {
   "cell_type": "markdown",
   "metadata": {},
   "source": [
    "### Combaining two data sets in one frame for the comparision"
   ]
  },
  {
   "cell_type": "code",
   "execution_count": null,
   "metadata": {},
   "outputs": [],
   "source": [
    "combined = pd.merge(df1,df2, left_index =True, right_index = True)\n",
    "combined.index = combined.index+1\n",
    "combined"
   ]
  },
  {
   "cell_type": "markdown",
   "metadata": {},
   "source": [
    "### Visualization of outcomes of the Fair Die\n"
   ]
  },
  {
   "cell_type": "code",
   "execution_count": null,
   "metadata": {},
   "outputs": [],
   "source": [
    " plt.figure(figsize = (10,5))\n",
    "fig = sns.countplot(x= 'Fair', data = combined, palette = 'rainbow')\n",
    "fig.set_title(\"Outcomes of Fair Die\")\n",
    "plt.xlabel('Occurence')\n",
    "plt.show()"
   ]
  },
  {
   "cell_type": "markdown",
   "metadata": {},
   "source": [
    "### Visualization for the outcomes of Biased Die"
   ]
  },
  {
   "cell_type": "code",
   "execution_count": null,
   "metadata": {},
   "outputs": [],
   "source": [
    " plt.figure(figsize = (10,5))\n",
    "fig = sns.countplot(x= 'Biased', data = combined, palette = 'rainbow')\n",
    "fig.set_title(\"Outcomes of Biased Die\")\n",
    "plt.xlabel('Occurence')\n",
    "plt.show()"
   ]
  },
  {
   "cell_type": "code",
   "execution_count": null,
   "metadata": {},
   "outputs": [],
   "source": [
    "combined.plot.bar(stacked = False)\n",
    "plt.ylabel('Count')\n",
    "plt.title(\"Comparision\")\n",
    "plt.show()"
   ]
  },
  {
   "cell_type": "code",
   "execution_count": null,
   "metadata": {},
   "outputs": [],
   "source": []
  }
 ],
 "metadata": {
  "kernelspec": {
   "display_name": "Python 3",
   "language": "python",
   "name": "python3"
  },
  "language_info": {
   "codemirror_mode": {
    "name": "ipython",
    "version": 3
   },
   "file_extension": ".py",
   "mimetype": "text/x-python",
   "name": "python",
   "nbconvert_exporter": "python",
   "pygments_lexer": "ipython3",
   "version": "3.8.5"
  }
 },
 "nbformat": 4,
 "nbformat_minor": 2
}
