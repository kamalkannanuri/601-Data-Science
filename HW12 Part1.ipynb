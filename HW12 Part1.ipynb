{
 "cells": [
  {
   "cell_type": "code",
   "execution_count": 1,
   "metadata": {},
   "outputs": [],
   "source": [
    "import os\n",
    "import pandas\n",
    "import numpy\n",
    "import matplotlib.pyplot as plt\n",
    "import time\n",
    "import csv\n",
    "import random\n",
    "import string\n",
    "from faker import Faker\n",
    "fake = Faker()"
   ]
  },
  {
   "cell_type": "code",
   "execution_count": 2,
   "metadata": {},
   "outputs": [
    {
     "name": "stdout",
     "output_type": "stream",
     "text": [
      "elapsed 1.3 seconds\n"
     ]
    }
   ],
   "source": [
    "start_time=time.time()\n",
    "list_of_dicts=[]\n",
    "num_rows= 900 # 850 is ~1MB CSV and takes 1.5 seconds; 8500 takes 15 seconds\n",
    "for indx in range(num_rows):\n",
    "    list_of_dicts.append({'name':fake.name(),\n",
    "                    'date':fake.date(),\n",
    "                    'domain name':fake.domain_name(),\n",
    "                    'day of month':fake.day_of_month(),\n",
    "                    'day of week':fake.day_of_week(),\n",
    "                    'country':fake.country(),\n",
    "                    'company':fake.company(),\n",
    "                    'city':fake.city(),\n",
    "                    'email':fake.ascii_email(),\n",
    "                    'phone number' : fake.random.randint(1000000000,9000000000)})\n",
    "    \n",
    "df_text = pandas.DataFrame(list_of_dicts)\n",
    "\n",
    "print('elapsed',round(time.time()-start_time,2),'seconds')\n",
    "df_text.head()\n",
    "\n",
    "File1_writeTime = round(time.time()-start_time,2)"
   ]
  },
  {
   "cell_type": "code",
   "execution_count": 3,
   "metadata": {},
   "outputs": [
    {
     "name": "stdout",
     "output_type": "stream",
     "text": [
      "elapsed 0.09 seconds\n"
     ]
    }
   ],
   "source": [
    "start_read_time = time.time()\n",
    "df_text.to_csv('temp.csv')\n",
    "print('elapsed',round(time.time()-start_read_time,2),'seconds')\n",
    "\n",
    "File1_ReadTime = round(time.time()-start_read_time,2)"
   ]
  },
  {
   "cell_type": "code",
   "execution_count": 4,
   "metadata": {},
   "outputs": [
    {
     "name": "stdout",
     "output_type": "stream",
     "text": [
      "0.11290931701660156 MB file on disk\n"
     ]
    }
   ],
   "source": [
    "print(os.path.getsize(\"temp.csv\")/(1024*1024),'MB file on disk')\n",
    "\n",
    "File1Size1 = os.path.getsize(\"temp.csv\")/(1024*1024)"
   ]
  },
  {
   "cell_type": "code",
   "execution_count": 5,
   "metadata": {},
   "outputs": [
    {
     "name": "stdout",
     "output_type": "stream",
     "text": [
      "elapsed 17.11 seconds\n"
     ]
    }
   ],
   "source": [
    "start_time=time.time()\n",
    "list_of_dicts=[]\n",
    "num_rows= 8000 # 850 is ~1MB CSV and takes 1.5 seconds; 8500 takes 15 seconds\n",
    "for indx in range(num_rows):\n",
    "    list_of_dicts.append({'name':fake.name(),\n",
    "                    'date':fake.date(),\n",
    "                    'domain name':fake.domain_name(),\n",
    "                    'day of month':fake.day_of_month(),\n",
    "                    'day of week':fake.day_of_week(),\n",
    "                    'country':fake.country(),\n",
    "                    'company':fake.company(),\n",
    "                    'city':fake.city(),\n",
    "                    'email':fake.ascii_email(),\n",
    "                    'phone number' : fake.random.randint(1000000000,9000000000)})\n",
    "    \n",
    "df_text1 = pandas.DataFrame(list_of_dicts)\n",
    "\n",
    "print('elapsed',round(time.time()-start_time,2),'seconds')\n",
    "df_text1.head()\n",
    "\n",
    "File2_writeTime = round(time.time()-start_time,2)"
   ]
  },
  {
   "cell_type": "code",
   "execution_count": 6,
   "metadata": {},
   "outputs": [
    {
     "name": "stdout",
     "output_type": "stream",
     "text": [
      "elapsed 0.14 seconds\n"
     ]
    }
   ],
   "source": [
    "start_read_time = time.time()\n",
    "df_text1.to_csv('temp1.csv')\n",
    "print('elapsed',round(time.time()-start_read_time,2),'seconds')\n",
    "\n",
    "File2_ReadTime = round(time.time()-start_read_time,2)"
   ]
  },
  {
   "cell_type": "code",
   "execution_count": 7,
   "metadata": {},
   "outputs": [
    {
     "name": "stdout",
     "output_type": "stream",
     "text": [
      "1.0125646591186523 MB file on disk\n"
     ]
    }
   ],
   "source": [
    "print(os.path.getsize(\"temp1.csv\")/(1024*1024),'MB file on disk')\n",
    "\n",
    "File2Size1 = os.path.getsize(\"temp1.csv\")/(1024*1024)"
   ]
  },
  {
   "cell_type": "code",
   "execution_count": 8,
   "metadata": {},
   "outputs": [
    {
     "name": "stdout",
     "output_type": "stream",
     "text": [
      "elapsed 61.2 seconds\n"
     ]
    }
   ],
   "source": [
    "start_time=time.time()\n",
    "list_of_dicts=[]\n",
    "num_rows=39500 # 850 is ~1MB CSV and takes 1.5 seconds; 8500 takes 15 seconds\n",
    "for indx in range(num_rows):\n",
    "    list_of_dicts.append({'name':fake.name(),\n",
    "                    'date':fake.date(),\n",
    "                    'domain name':fake.domain_name(),\n",
    "                    'day of month':fake.day_of_month(),\n",
    "                    'day of week':fake.day_of_week(),\n",
    "                    'country':fake.country(),\n",
    "                    'company':fake.company(),\n",
    "                    'city':fake.city(),\n",
    "                    'email':fake.ascii_email(),\n",
    "                    'phone number' : fake.random.randint(1000000000,9000000000)})\n",
    "    \n",
    "df_text2 = pandas.DataFrame(list_of_dicts)\n",
    "\n",
    "print('elapsed',round(time.time()-start_time,2),'seconds')\n",
    "df_text2.head()\n",
    "\n",
    "File3_writeTime = round(time.time()-start_time,2)"
   ]
  },
  {
   "cell_type": "code",
   "execution_count": 9,
   "metadata": {},
   "outputs": [
    {
     "name": "stdout",
     "output_type": "stream",
     "text": [
      "elapsed 0.35 seconds\n"
     ]
    }
   ],
   "source": [
    "start_read_time = time.time()\n",
    "df_text2.to_csv('temp2.csv')\n",
    "print('elapsed',round(time.time()-start_read_time,2),'seconds')\n",
    "\n",
    "File3_ReadTime = round(time.time()-start_read_time,2)"
   ]
  },
  {
   "cell_type": "code",
   "execution_count": 10,
   "metadata": {},
   "outputs": [
    {
     "name": "stdout",
     "output_type": "stream",
     "text": [
      "5.032962799072266 MB file on disk\n"
     ]
    }
   ],
   "source": [
    "print(os.path.getsize(\"temp2.csv\")/(1024*1024),'MB file on disk')\n",
    "\n",
    "File3Size1 = os.path.getsize(\"temp2.csv\")/(1024*1024)"
   ]
  },
  {
   "cell_type": "code",
   "execution_count": 11,
   "metadata": {},
   "outputs": [
    {
     "name": "stdout",
     "output_type": "stream",
     "text": [
      "elapsed 156.3 seconds\n"
     ]
    }
   ],
   "source": [
    "start_time=time.time()\n",
    "list_of_dicts=[]\n",
    "num_rows=78600 # 850 is ~1MB CSV and takes 1.5 seconds; 8500 takes 15 seconds\n",
    "for indx in range(num_rows):\n",
    "    list_of_dicts.append({'name':fake.name(),\n",
    "                    'date':fake.date(),\n",
    "                    'domain name':fake.domain_name(),\n",
    "                    'day of month':fake.day_of_month(),\n",
    "                    'day of week':fake.day_of_week(),\n",
    "                    'country':fake.country(),\n",
    "                    'company':fake.company(),\n",
    "                    'city':fake.city(),\n",
    "                    'email':fake.ascii_email(),\n",
    "                    'phone number' : fake.random.randint(1000000000,9000000000)})\n",
    "    \n",
    "df_text3 = pandas.DataFrame(list_of_dicts)\n",
    "\n",
    "print('elapsed',round(time.time()-start_time,2),'seconds')\n",
    "df_text3.head()\n",
    "\n",
    "File4_writeTime = round(time.time()-start_time,2)"
   ]
  },
  {
   "cell_type": "code",
   "execution_count": 12,
   "metadata": {},
   "outputs": [
    {
     "name": "stdout",
     "output_type": "stream",
     "text": [
      "elapsed 0.95 seconds\n"
     ]
    }
   ],
   "source": [
    "start_read_time = time.time()\n",
    "df_text3.to_csv('temp3.csv')\n",
    "print('elapsed',round(time.time()-start_read_time,2),'seconds')\n",
    "\n",
    "File4_ReadTime = round(time.time()-start_read_time,2)"
   ]
  },
  {
   "cell_type": "code",
   "execution_count": 13,
   "metadata": {},
   "outputs": [
    {
     "name": "stdout",
     "output_type": "stream",
     "text": [
      "10.01030158996582 MB file on disk\n"
     ]
    }
   ],
   "source": [
    "print(os.path.getsize(\"temp3.csv\")/(1024*1024),'MB file on disk')\n",
    "\n",
    "File4Size1 = os.path.getsize(\"temp3.csv\")/(1024*1024)"
   ]
  },
  {
   "cell_type": "code",
   "execution_count": 14,
   "metadata": {},
   "outputs": [
    {
     "name": "stdout",
     "output_type": "stream",
     "text": [
      "elapsed 0.27 seconds\n"
     ]
    }
   ],
   "source": [
    "start_time=time.time()\n",
    "list_of_dicts=[]\n",
    "for index in range(10):\n",
    "    list_of_dicts.append(df_text3)\n",
    "\n",
    "df_text4 = pandas.concat(list_of_dicts)\n",
    "print('elapsed',round(time.time()-start_time,2),'seconds')\n",
    "\n",
    "File5_writeTime = round(time.time()-start_time,2)"
   ]
  },
  {
   "cell_type": "code",
   "execution_count": 15,
   "metadata": {},
   "outputs": [
    {
     "name": "stdout",
     "output_type": "stream",
     "text": [
      "elapsed 7.55 seconds\n"
     ]
    }
   ],
   "source": [
    "start_read_time = time.time()\n",
    "df_text4.to_csv('temp4.csv')\n",
    "print('elapsed',round(time.time()-start_read_time,2),'seconds')\n",
    "\n",
    "File5_ReadTime = round(time.time()-start_read_time,2)"
   ]
  },
  {
   "cell_type": "code",
   "execution_count": 16,
   "metadata": {},
   "outputs": [
    {
     "name": "stdout",
     "output_type": "stream",
     "text": [
      "100.10225200653076 MB file on disk\n"
     ]
    }
   ],
   "source": [
    "print(os.path.getsize(\"temp4.csv\")/(1024*1024),'MB file on disk')\n",
    "\n",
    "File5Size1 = os.path.getsize(\"temp4.csv\")/(1024*1024)"
   ]
  },
  {
   "cell_type": "code",
   "execution_count": 17,
   "metadata": {},
   "outputs": [
    {
     "name": "stdout",
     "output_type": "stream",
     "text": [
      "elapsed 0.8 seconds\n"
     ]
    }
   ],
   "source": [
    "start_time=time.time()\n",
    "list_of_dicts=[]\n",
    "for index in range(50):\n",
    "    list_of_dicts.append(df_text3)\n",
    "\n",
    "df_text5 = pandas.concat(list_of_dicts)\n",
    "print('elapsed',round(time.time()-start_time,2),'seconds')\n",
    "\n",
    "File6_writeTime = round(time.time()-start_time,2)"
   ]
  },
  {
   "cell_type": "code",
   "execution_count": 18,
   "metadata": {},
   "outputs": [
    {
     "name": "stdout",
     "output_type": "stream",
     "text": [
      "elapsed 41.4 seconds\n"
     ]
    }
   ],
   "source": [
    "start_read_time = time.time()\n",
    "df_text5.to_csv('temp5.csv')\n",
    "print('elapsed',round(time.time()-start_read_time,2),'seconds')\n",
    "\n",
    "File6_ReadTime = round(time.time()-start_read_time,2)"
   ]
  },
  {
   "cell_type": "code",
   "execution_count": 19,
   "metadata": {},
   "outputs": [
    {
     "name": "stdout",
     "output_type": "stream",
     "text": [
      "500.51092052459717 MB file on disk\n"
     ]
    }
   ],
   "source": [
    "print(os.path.getsize(\"temp5.csv\")/(1024*1024),'MB file on disk')\n",
    "\n",
    "File6Size1 = os.path.getsize(\"temp5.csv\")/(1024*1024)"
   ]
  },
  {
   "cell_type": "code",
   "execution_count": 20,
   "metadata": {},
   "outputs": [],
   "source": [
    "listr = [File1_writeTime, File2_writeTime, File3_writeTime, File4_writeTime, File5_writeTime, File6_writeTime]"
   ]
  },
  {
   "cell_type": "code",
   "execution_count": 21,
   "metadata": {},
   "outputs": [
    {
     "name": "stdout",
     "output_type": "stream",
     "text": [
      "1.3\n"
     ]
    }
   ],
   "source": [
    "print(listr[0])"
   ]
  },
  {
   "cell_type": "code",
   "execution_count": 22,
   "metadata": {},
   "outputs": [],
   "source": [
    "list1 = [File1Size1, File2Size1, File3Size1, File4Size1, File5Size1, File6Size1]"
   ]
  },
  {
   "cell_type": "code",
   "execution_count": 23,
   "metadata": {},
   "outputs": [
    {
     "name": "stdout",
     "output_type": "stream",
     "text": [
      "0.11290931701660156\n"
     ]
    }
   ],
   "source": [
    "print(list1[0])"
   ]
  },
  {
   "cell_type": "code",
   "execution_count": 24,
   "metadata": {},
   "outputs": [],
   "source": [
    "list2 = [File1_ReadTime, File2_ReadTime, File3_ReadTime, File4_ReadTime, File5_ReadTime, File6_ReadTime]"
   ]
  },
  {
   "cell_type": "code",
   "execution_count": 25,
   "metadata": {},
   "outputs": [
    {
     "name": "stdout",
     "output_type": "stream",
     "text": [
      "0.09\n"
     ]
    }
   ],
   "source": [
    "print(list2[0])"
   ]
  },
  {
   "cell_type": "code",
   "execution_count": 26,
   "metadata": {},
   "outputs": [
    {
     "data": {
      "image/png": "[encoded data removed]",
      "text/plain": [
       "<Figure size 360x360 with 1 Axes>"
      ]
     },
     "metadata": {
      "needs_background": "light"
     },
     "output_type": "display_data"
    }
   ],
   "source": [
    "#citation - https://stackoverflow.com/questions/43434958/how-do-i-plot-a-semilog-plot-in-python\n",
    "plt.figure(num = None, figsize=(5,5))\n",
    "plt.semilogx(listr, list1)\n",
    "plt.title('Scaling')\n",
    "plt.xlabel('WriteTime in Seconds')\n",
    "plt.ylabel('FileSize in MB')\n",
    "plt.show()"
   ]
  },
  {
   "cell_type": "code",
   "execution_count": 27,
   "metadata": {},
   "outputs": [
    {
     "data": {
      "image/png": "[encoded data removed]",
      "text/plain": [
       "<Figure size 360x360 with 1 Axes>"
      ]
     },
     "metadata": {
      "needs_background": "light"
     },
     "output_type": "display_data"
    }
   ],
   "source": [
    "#citation - https://stackoverflow.com/questions/43434958/how-do-i-plot-a-semilog-plot-in-python\n",
    "plt.figure(num = None, figsize=(5,5))\n",
    "plt.semilogx(list2, list1)\n",
    "plt.title('Scaling')\n",
    "plt.xlabel('ReadTime in Seconds')\n",
    "plt.ylabel('FileSize in MB')\n",
    "plt.show()"
   ]
  },
  {
   "cell_type": "code",
   "execution_count": 28,
   "metadata": {},
   "outputs": [
    {
     "name": "stdout",
     "output_type": "stream",
     "text": [
      "elapsed 1.72 seconds\n"
     ]
    }
   ],
   "source": [
    "start_time=time.time()\n",
    "list_of_dicts=[]\n",
    "num_rows= 900 # 850 is ~1MB CSV and takes 1.5 seconds; 8500 takes 15 seconds\n",
    "for indx in range(num_rows):\n",
    "    list_of_dicts.append({'name':fake.name(),\n",
    "                    'date':fake.date(),\n",
    "                    'domain name':fake.domain_name(),\n",
    "                    'day of month':fake.day_of_month(),\n",
    "                    'day of week':fake.day_of_week(),\n",
    "                    'country':fake.country(),\n",
    "                    'company':fake.company(),\n",
    "                    'city':fake.city(),\n",
    "                    'email':fake.ascii_email(),\n",
    "                    'Number of Kids' : fake.random.randint(1,5)})\n",
    "    \n",
    "df_text = pandas.DataFrame(list_of_dicts)\n",
    "\n",
    "print('elapsed',round(time.time()-start_time,2),'seconds')\n",
    "df_text.head()\n",
    "\n",
    "File1_writeTime1 = round(time.time()-start_time,2)"
   ]
  },
  {
   "cell_type": "code",
   "execution_count": 29,
   "metadata": {},
   "outputs": [
    {
     "name": "stdout",
     "output_type": "stream",
     "text": [
      "elapsed 0.02 seconds\n"
     ]
    }
   ],
   "source": [
    "start_read_time = time.time()\n",
    "df_text.to_csv('1temp.csv')\n",
    "print('elapsed',round(time.time()-start_read_time,2),'seconds')\n",
    "\n",
    "File1_ReadTime1 = round(time.time()-start_read_time,2)"
   ]
  },
  {
   "cell_type": "code",
   "execution_count": 30,
   "metadata": {},
   "outputs": [
    {
     "name": "stdout",
     "output_type": "stream",
     "text": [
      "0.10518264770507812 MB file on disk\n"
     ]
    }
   ],
   "source": [
    "print(os.path.getsize(\"1temp.csv\")/(1024*1024),'MB file on disk')\n",
    "\n",
    "File1Size2 = os.path.getsize(\"1temp.csv\")/(1024*1024)"
   ]
  },
  {
   "cell_type": "code",
   "execution_count": 31,
   "metadata": {},
   "outputs": [
    {
     "name": "stdout",
     "output_type": "stream",
     "text": [
      "elapsed 18.96 seconds\n"
     ]
    }
   ],
   "source": [
    "start_time=time.time()\n",
    "list_of_dicts=[]\n",
    "num_rows= 8500 # 850 is ~1MB CSV and takes 1.5 seconds; 8500 takes 15 seconds\n",
    "for indx in range(num_rows):\n",
    "    list_of_dicts.append({'name':fake.name(),\n",
    "                    'date':fake.date(),\n",
    "                    'domain name':fake.domain_name(),\n",
    "                    'day of month':fake.day_of_month(),\n",
    "                    'day of week':fake.day_of_week(),\n",
    "                    'country':fake.country(),\n",
    "                    'company':fake.company(),\n",
    "                    'city':fake.city(),\n",
    "                    'email':fake.ascii_email(),\n",
    "                    'Number of Kids' : fake.random.randint(1,5)})\n",
    "    \n",
    "df_text1 = pandas.DataFrame(list_of_dicts)\n",
    "\n",
    "print('elapsed',round(time.time()-start_time,2),'seconds')\n",
    "df_text1.head()\n",
    "\n",
    "File2_writeTime1 = round(time.time()-start_time,2)"
   ]
  },
  {
   "cell_type": "code",
   "execution_count": 32,
   "metadata": {},
   "outputs": [
    {
     "name": "stdout",
     "output_type": "stream",
     "text": [
      "elapsed 0.15 seconds\n"
     ]
    }
   ],
   "source": [
    "start_read_time = time.time()\n",
    "df_text1.to_csv('2temp.csv')\n",
    "print('elapsed',round(time.time()-start_read_time,2),'seconds')\n",
    "\n",
    "File2_ReadTime1 = round(time.time()-start_read_time,2)"
   ]
  },
  {
   "cell_type": "code",
   "execution_count": 33,
   "metadata": {},
   "outputs": [
    {
     "name": "stdout",
     "output_type": "stream",
     "text": [
      "1.0013113021850586 MB file on disk\n"
     ]
    }
   ],
   "source": [
    "print(os.path.getsize(\"2temp.csv\")/(1024*1024),'MB file on disk')\n",
    "\n",
    "File2Size2 = os.path.getsize(\"2temp.csv\")/(1024*1024)"
   ]
  },
  {
   "cell_type": "code",
   "execution_count": 34,
   "metadata": {},
   "outputs": [
    {
     "name": "stdout",
     "output_type": "stream",
     "text": [
      "elapsed 117.24 seconds\n"
     ]
    }
   ],
   "source": [
    "start_time=time.time()\n",
    "list_of_dicts=[]\n",
    "num_rows=43000 # 850 is ~1MB CSV and takes 1.5 seconds; 8500 takes 15 seconds\n",
    "for indx in range(num_rows):\n",
    "    list_of_dicts.append({'name':fake.name(),\n",
    "                    'date':fake.date(),\n",
    "                    'domain name':fake.domain_name(),\n",
    "                    'day of month':fake.day_of_month(),\n",
    "                    'day of week':fake.day_of_week(),\n",
    "                    'country':fake.country(),\n",
    "                    'company':fake.company(),\n",
    "                    'city':fake.city(),\n",
    "                    'email':fake.ascii_email(),\n",
    "                    'Number of Kids' : fake.random.randint(1,5)})\n",
    "    \n",
    "df_text2 = pandas.DataFrame(list_of_dicts)\n",
    "\n",
    "print('elapsed',round(time.time()-start_time,2),'seconds')\n",
    "df_text2.head()\n",
    "\n",
    "File3_writeTime1 = round(time.time()-start_time,2)"
   ]
  },
  {
   "cell_type": "code",
   "execution_count": 35,
   "metadata": {},
   "outputs": [
    {
     "name": "stdout",
     "output_type": "stream",
     "text": [
      "elapsed 0.85 seconds\n"
     ]
    }
   ],
   "source": [
    "start_read_time = time.time()\n",
    "df_text2.to_csv('3temp.csv')\n",
    "print('elapsed',round(time.time()-start_read_time,2),'seconds')\n",
    "\n",
    "File3_ReadTime1 = round(time.time()-start_read_time,2)"
   ]
  },
  {
   "cell_type": "code",
   "execution_count": 36,
   "metadata": {},
   "outputs": [
    {
     "name": "stdout",
     "output_type": "stream",
     "text": [
      "5.105024337768555 MB file on disk\n"
     ]
    }
   ],
   "source": [
    "print(os.path.getsize(\"3temp.csv\")/(1024*1024),'MB file on disk')\n",
    "\n",
    "File3Size2 = os.path.getsize(\"3temp.csv\")/(1024*1024)"
   ]
  },
  {
   "cell_type": "code",
   "execution_count": 37,
   "metadata": {},
   "outputs": [
    {
     "name": "stdout",
     "output_type": "stream",
     "text": [
      "elapsed 288.13 seconds\n"
     ]
    }
   ],
   "source": [
    "start_time=time.time()\n",
    "list_of_dicts=[]\n",
    "num_rows=85000 # 850 is ~1MB CSV and takes 1.5 seconds; 8500 takes 15 seconds\n",
    "for indx in range(num_rows):\n",
    "    list_of_dicts.append({'name':fake.name(),\n",
    "                    'date':fake.date(),\n",
    "                    'domain name':fake.domain_name(),\n",
    "                    'day of month':fake.day_of_month(),\n",
    "                    'day of week':fake.day_of_week(),\n",
    "                    'country':fake.country(),\n",
    "                    'company':fake.company(),\n",
    "                    'city':fake.city(),\n",
    "                    'email':fake.ascii_email(),\n",
    "                    'Number of Kids' : fake.random.randint(1,5)})\n",
    "    \n",
    "df_text3 = pandas.DataFrame(list_of_dicts)\n",
    "\n",
    "print('elapsed',round(time.time()-start_time,2),'seconds')\n",
    "df_text3.head()\n",
    "\n",
    "File4_writeTime1 = round(time.time()-start_time,2)"
   ]
  },
  {
   "cell_type": "code",
   "execution_count": 38,
   "metadata": {},
   "outputs": [
    {
     "name": "stdout",
     "output_type": "stream",
     "text": [
      "elapsed 1.31 seconds\n"
     ]
    }
   ],
   "source": [
    "start_read_time = time.time()\n",
    "df_text3.to_csv('4temp.csv')\n",
    "print('elapsed',round(time.time()-start_read_time,2),'seconds')\n",
    "\n",
    "File4_ReadTime1 = round(time.time()-start_read_time,2)"
   ]
  },
  {
   "cell_type": "code",
   "execution_count": 39,
   "metadata": {},
   "outputs": [
    {
     "name": "stdout",
     "output_type": "stream",
     "text": [
      "10.103056907653809 MB file on disk\n"
     ]
    }
   ],
   "source": [
    "print(os.path.getsize(\"4temp.csv\")/(1024*1024),'MB file on disk')\n",
    "\n",
    "File4Size2 = os.path.getsize(\"4temp.csv\")/(1024*1024)"
   ]
  },
  {
   "cell_type": "code",
   "execution_count": 40,
   "metadata": {},
   "outputs": [
    {
     "name": "stdout",
     "output_type": "stream",
     "text": [
      "elapsed 0.42 seconds\n"
     ]
    }
   ],
   "source": [
    "start_time=time.time()\n",
    "list_of_dicts=[]\n",
    "for index in range(10):\n",
    "    list_of_dicts.append(df_text3)\n",
    "\n",
    "df_text4 = pandas.concat(list_of_dicts)\n",
    "print('elapsed',round(time.time()-start_time,2),'seconds')\n",
    "\n",
    "File5_writeTime1 = round(time.time()-start_time,2)"
   ]
  },
  {
   "cell_type": "code",
   "execution_count": 41,
   "metadata": {},
   "outputs": [
    {
     "name": "stdout",
     "output_type": "stream",
     "text": [
      "elapsed 11.98 seconds\n"
     ]
    }
   ],
   "source": [
    "start_read_time = time.time()\n",
    "df_text4.to_csv('5temp.csv')\n",
    "print('elapsed',round(time.time()-start_read_time,2),'seconds')\n",
    "\n",
    "File5_ReadTime1 = round(time.time()-start_read_time,2)"
   ]
  },
  {
   "cell_type": "code",
   "execution_count": 42,
   "metadata": {},
   "outputs": [
    {
     "name": "stdout",
     "output_type": "stream",
     "text": [
      "101.02978801727295 MB file on disk\n"
     ]
    }
   ],
   "source": [
    "print(os.path.getsize(\"5temp.csv\")/(1024*1024),'MB file on disk')\n",
    "\n",
    "File5Size2 = os.path.getsize(\"5temp.csv\")/(1024*1024)"
   ]
  },
  {
   "cell_type": "code",
   "execution_count": 43,
   "metadata": {},
   "outputs": [
    {
     "name": "stdout",
     "output_type": "stream",
     "text": [
      "elapsed 1.83 seconds\n"
     ]
    }
   ],
   "source": [
    "start_time=time.time()\n",
    "list_of_dicts=[]\n",
    "for index in range(50):\n",
    "    list_of_dicts.append(df_text3)\n",
    "\n",
    "df_text5 = pandas.concat(list_of_dicts)\n",
    "print('elapsed',round(time.time()-start_time,2),'seconds')\n",
    "\n",
    "File6_writeTime1 = round(time.time()-start_time,2)"
   ]
  },
  {
   "cell_type": "code",
   "execution_count": 44,
   "metadata": {},
   "outputs": [
    {
     "name": "stdout",
     "output_type": "stream",
     "text": [
      "elapsed 62.56 seconds\n"
     ]
    }
   ],
   "source": [
    "start_read_time = time.time()\n",
    "df_text5.to_csv('6temp.csv')\n",
    "print('elapsed',round(time.time()-start_read_time,2),'seconds')\n",
    "\n",
    "File6_ReadTime1 = round(time.time()-start_read_time,2)"
   ]
  },
  {
   "cell_type": "code",
   "execution_count": 45,
   "metadata": {},
   "outputs": [
    {
     "name": "stdout",
     "output_type": "stream",
     "text": [
      "505.1485929489136 MB file on disk\n"
     ]
    }
   ],
   "source": [
    "print(os.path.getsize(\"6temp.csv\")/(1024*1024),'MB file on disk')\n",
    "\n",
    "File6Size2 = os.path.getsize(\"6temp.csv\")/(1024*1024)"
   ]
  },
  {
   "cell_type": "code",
   "execution_count": 46,
   "metadata": {},
   "outputs": [
    {
     "name": "stdout",
     "output_type": "stream",
     "text": [
      "elapsed 1.87 seconds\n"
     ]
    }
   ],
   "source": [
    "start_time=time.time()\n",
    "list_of_dicts=[]\n",
    "num_rows= 1000 # 850 is ~1MB CSV and takes 1.5 seconds; 8500 takes 15 seconds\n",
    "for indx in range(num_rows):\n",
    "    list_of_dicts.append({'name':fake.name(),\n",
    "                    'date':fake.date(),\n",
    "                    'domain name':fake.domain_name(),\n",
    "                    'day of month':fake.day_of_month(),\n",
    "                    'day of week':fake.day_of_week(),\n",
    "                    'country':fake.country(),\n",
    "                    'company':fake.company(),\n",
    "                    'city':fake.city(),\n",
    "                    'Number of Kids' : fake.random.randint(1,5),\n",
    "                    'phone number' : fake.random.randint(1000000000,9000000000)})\n",
    "    \n",
    "df_text = pandas.DataFrame(list_of_dicts)\n",
    "\n",
    "print('elapsed',round(time.time()-start_time,2),'seconds')\n",
    "df_text.head()\n",
    "\n",
    "File1_writeTime2 = round(time.time()-start_time,2)"
   ]
  },
  {
   "cell_type": "code",
   "execution_count": 47,
   "metadata": {},
   "outputs": [
    {
     "name": "stdout",
     "output_type": "stream",
     "text": [
      "elapsed 0.03 seconds\n"
     ]
    }
   ],
   "source": [
    "start_read_time = time.time()\n",
    "df_text.to_csv('1temp1.csv')\n",
    "print('elapsed',round(time.time()-start_read_time,2),'seconds')\n",
    "\n",
    "File1_ReadTime2 = round(time.time()-start_read_time,2)"
   ]
  },
  {
   "cell_type": "code",
   "execution_count": 48,
   "metadata": {},
   "outputs": [
    {
     "name": "stdout",
     "output_type": "stream",
     "text": [
      "0.1054239273071289 MB file on disk\n"
     ]
    }
   ],
   "source": [
    "print(os.path.getsize(\"1temp1.csv\")/(1024*1024),'MB file on disk')\n",
    "\n",
    "File1Size3 = os.path.getsize(\"1temp1.csv\")/(1024*1024)"
   ]
  },
  {
   "cell_type": "code",
   "execution_count": 49,
   "metadata": {},
   "outputs": [
    {
     "name": "stdout",
     "output_type": "stream",
     "text": [
      "elapsed 14.64 seconds\n"
     ]
    }
   ],
   "source": [
    "start_time=time.time()\n",
    "list_of_dicts=[]\n",
    "num_rows= 10000 # 850 is ~1MB CSV and takes 1.5 seconds; 8500 takes 15 seconds\n",
    "for indx in range(num_rows):\n",
    "    list_of_dicts.append({'name':fake.name(),\n",
    "                    'date':fake.date(),\n",
    "                    'domain name':fake.domain_name(),\n",
    "                    'day of month':fake.day_of_month(),\n",
    "                    'day of week':fake.day_of_week(),\n",
    "                    'country':fake.country(),\n",
    "                    'company':fake.company(),\n",
    "                    'city':fake.city(),\n",
    "                    'Number of Kids' : fake.random.randint(1,5),\n",
    "                    'phone number' : fake.random.randint(1000000000,9000000000)})\n",
    "    \n",
    "df_text1 = pandas.DataFrame(list_of_dicts)\n",
    "\n",
    "print('elapsed',round(time.time()-start_time,2),'seconds')\n",
    "df_text1.head()\n",
    "\n",
    "File2_writeTime2 = round(time.time()-start_time,2)"
   ]
  },
  {
   "cell_type": "code",
   "execution_count": 50,
   "metadata": {},
   "outputs": [
    {
     "name": "stdout",
     "output_type": "stream",
     "text": [
      "elapsed 0.11 seconds\n"
     ]
    }
   ],
   "source": [
    "start_read_time = time.time()\n",
    "df_text1.to_csv('2temp2.csv')\n",
    "print('elapsed',round(time.time()-start_read_time,2),'seconds')\n",
    "\n",
    "File2_ReadTime2 = round(time.time()-start_read_time,2)"
   ]
  },
  {
   "cell_type": "code",
   "execution_count": 51,
   "metadata": {},
   "outputs": [
    {
     "name": "stdout",
     "output_type": "stream",
     "text": [
      "1.0662260055541992 MB file on disk\n"
     ]
    }
   ],
   "source": [
    "print(os.path.getsize(\"2temp2.csv\")/(1024*1024),'MB file on disk')\n",
    "\n",
    "File2Size3 = os.path.getsize(\"2temp2.csv\")/(1024*1024)"
   ]
  },
  {
   "cell_type": "code",
   "execution_count": 52,
   "metadata": {},
   "outputs": [
    {
     "name": "stdout",
     "output_type": "stream",
     "text": [
      "elapsed 65.35 seconds\n"
     ]
    }
   ],
   "source": [
    "start_time=time.time()\n",
    "list_of_dicts=[]\n",
    "num_rows=47000 # 850 is ~1MB CSV and takes 1.5 seconds; 8500 takes 15 seconds\n",
    "for indx in range(num_rows):\n",
    "    list_of_dicts.append({'name':fake.name(),\n",
    "                    'date':fake.date(),\n",
    "                    'domain name':fake.domain_name(),\n",
    "                    'day of month':fake.day_of_month(),\n",
    "                    'day of week':fake.day_of_week(),\n",
    "                    'country':fake.country(),\n",
    "                    'company':fake.company(),\n",
    "                    'city':fake.city(),\n",
    "                    'Number of Kids' : fake.random.randint(1,5),\n",
    "                    'phone number' : fake.random.randint(1000000000,9000000000)})\n",
    "    \n",
    "df_text2 = pandas.DataFrame(list_of_dicts)\n",
    "\n",
    "print('elapsed',round(time.time()-start_time,2),'seconds')\n",
    "df_text2.head()\n",
    "\n",
    "File3_writeTime2 = round(time.time()-start_time,2)"
   ]
  },
  {
   "cell_type": "code",
   "execution_count": 53,
   "metadata": {},
   "outputs": [
    {
     "name": "stdout",
     "output_type": "stream",
     "text": [
      "elapsed 0.99 seconds\n"
     ]
    }
   ],
   "source": [
    "start_read_time = time.time()\n",
    "df_text2.to_csv('3temp3.csv')\n",
    "print('elapsed',round(time.time()-start_read_time,2),'seconds')\n",
    "\n",
    "File3_ReadTime2 = round(time.time()-start_read_time,2)"
   ]
  },
  {
   "cell_type": "code",
   "execution_count": 54,
   "metadata": {},
   "outputs": [
    {
     "name": "stdout",
     "output_type": "stream",
     "text": [
      "5.043128967285156 MB file on disk\n"
     ]
    }
   ],
   "source": [
    "print(os.path.getsize(\"3temp3.csv\")/(1024*1024),'MB file on disk')\n",
    "\n",
    "File3Size3 = os.path.getsize(\"3temp3.csv\")/(1024*1024)"
   ]
  },
  {
   "cell_type": "code",
   "execution_count": 55,
   "metadata": {},
   "outputs": [
    {
     "name": "stdout",
     "output_type": "stream",
     "text": [
      "elapsed 160.57 seconds\n"
     ]
    }
   ],
   "source": [
    "start_time=time.time()\n",
    "list_of_dicts=[]\n",
    "num_rows=95000 # 850 is ~1MB CSV and takes 1.5 seconds; 8500 takes 15 seconds\n",
    "for indx in range(num_rows):\n",
    "    list_of_dicts.append({'name':fake.name(),\n",
    "                    'date':fake.date(),\n",
    "                    'domain name':fake.domain_name(),\n",
    "                    'day of month':fake.day_of_month(),\n",
    "                    'day of week':fake.day_of_week(),\n",
    "                    'country':fake.country(),\n",
    "                    'company':fake.company(),\n",
    "                    'city':fake.city(),\n",
    "                    'Number of Kids' : fake.random.randint(1,5),\n",
    "                    'phone number' : fake.random.randint(1000000000,9000000000)})\n",
    "    \n",
    "df_text3 = pandas.DataFrame(list_of_dicts)\n",
    "\n",
    "print('elapsed',round(time.time()-start_time,2),'seconds')\n",
    "df_text3.head()\n",
    "\n",
    "File4_writeTime2 = round(time.time()-start_time,2)"
   ]
  },
  {
   "cell_type": "code",
   "execution_count": 56,
   "metadata": {},
   "outputs": [
    {
     "name": "stdout",
     "output_type": "stream",
     "text": [
      "elapsed 1.24 seconds\n"
     ]
    }
   ],
   "source": [
    "start_read_time = time.time()\n",
    "df_text3.to_csv('4temp4.csv')\n",
    "print('elapsed',round(time.time()-start_read_time,2),'seconds')\n",
    "\n",
    "File4_ReadTime2 = round(time.time()-start_read_time,2)"
   ]
  },
  {
   "cell_type": "code",
   "execution_count": 57,
   "metadata": {},
   "outputs": [
    {
     "name": "stdout",
     "output_type": "stream",
     "text": [
      "10.209956169128418 MB file on disk\n"
     ]
    }
   ],
   "source": [
    "print(os.path.getsize(\"4temp4.csv\")/(1024*1024),'MB file on disk')\n",
    "\n",
    "File4Size3 = os.path.getsize(\"4temp4.csv\")/(1024*1024)"
   ]
  },
  {
   "cell_type": "code",
   "execution_count": 58,
   "metadata": {},
   "outputs": [
    {
     "name": "stdout",
     "output_type": "stream",
     "text": [
      "elapsed 0.4 seconds\n"
     ]
    }
   ],
   "source": [
    "start_time=time.time()\n",
    "list_of_dicts=[]\n",
    "for index in range(10):\n",
    "    list_of_dicts.append(df_text3)\n",
    "\n",
    "df_text4 = pandas.concat(list_of_dicts)\n",
    "print('elapsed',round(time.time()-start_time,2),'seconds')\n",
    "\n",
    "File5_writeTime2 = round(time.time()-start_time,2)"
   ]
  },
  {
   "cell_type": "code",
   "execution_count": 59,
   "metadata": {},
   "outputs": [
    {
     "name": "stdout",
     "output_type": "stream",
     "text": [
      "elapsed 8.95 seconds\n"
     ]
    }
   ],
   "source": [
    "start_read_time = time.time()\n",
    "df_text4.to_csv('5temp5.csv')\n",
    "print('elapsed',round(time.time()-start_read_time,2),'seconds')\n",
    "\n",
    "File5_ReadTime2 = round(time.time()-start_read_time,2)"
   ]
  },
  {
   "cell_type": "code",
   "execution_count": 60,
   "metadata": {},
   "outputs": [
    {
     "name": "stdout",
     "output_type": "stream",
     "text": [
      "102.09872055053711 MB file on disk\n"
     ]
    }
   ],
   "source": [
    "print(os.path.getsize(\"5temp5.csv\")/(1024*1024),'MB file on disk')\n",
    "\n",
    "File5Size3 = os.path.getsize(\"5temp5.csv\")/(1024*1024)"
   ]
  },
  {
   "cell_type": "code",
   "execution_count": 61,
   "metadata": {},
   "outputs": [
    {
     "name": "stdout",
     "output_type": "stream",
     "text": [
      "elapsed 1.46 seconds\n"
     ]
    }
   ],
   "source": [
    "start_time=time.time()\n",
    "list_of_dicts=[]\n",
    "for index in range(50):\n",
    "    list_of_dicts.append(df_text3)\n",
    "\n",
    "df_text5 = pandas.concat(list_of_dicts)\n",
    "print('elapsed',round(time.time()-start_time,2),'seconds')\n",
    "\n",
    "File6_writeTime2 = round(time.time()-start_time,2)"
   ]
  },
  {
   "cell_type": "code",
   "execution_count": 62,
   "metadata": {},
   "outputs": [
    {
     "name": "stdout",
     "output_type": "stream",
     "text": [
      "elapsed 58.16 seconds\n"
     ]
    }
   ],
   "source": [
    "start_read_time = time.time()\n",
    "df_text5.to_csv('6temp6.csv')\n",
    "print('elapsed',round(time.time()-start_read_time,2),'seconds')\n",
    "\n",
    "File6_ReadTime2 = round(time.time()-start_read_time,2)"
   ]
  },
  {
   "cell_type": "code",
   "execution_count": 63,
   "metadata": {},
   "outputs": [
    {
     "name": "stdout",
     "output_type": "stream",
     "text": [
      "510.4932289123535 MB file on disk\n"
     ]
    }
   ],
   "source": [
    "print(os.path.getsize(\"6temp6.csv\")/(1024*1024),'MB file on disk')\n",
    "\n",
    "File6Size3 = os.path.getsize(\"6temp6.csv\")/(1024*1024)"
   ]
  },
  {
   "cell_type": "code",
   "execution_count": 64,
   "metadata": {},
   "outputs": [],
   "source": [
    "listTime = [File1_writeTime, File2_writeTime, File3_writeTime, File4_writeTime, File5_writeTime, File6_writeTime, File1_writeTime1, File2_writeTime1, File3_writeTime1, File4_writeTime1, File5_writeTime1, File6_writeTime1, File1_writeTime2, File2_writeTime2, File3_writeTime2, File4_writeTime2, File5_writeTime2, File6_writeTime2]"
   ]
  },
  {
   "cell_type": "code",
   "execution_count": 65,
   "metadata": {},
   "outputs": [
    {
     "name": "stdout",
     "output_type": "stream",
     "text": [
      "0.43\n"
     ]
    }
   ],
   "source": [
    "print(listTime[10])"
   ]
  },
  {
   "cell_type": "code",
   "execution_count": 66,
   "metadata": {},
   "outputs": [],
   "source": [
    "listFileSize = [File1Size1, File2Size1, File3Size1, File4Size1, File5Size1, File6Size1, File1Size2, File2Size2, File3Size2, File4Size2, File5Size2, File6Size2, File1Size3, File2Size3, File3Size3, File4Size3, File5Size3, File6Size3]"
   ]
  },
  {
   "cell_type": "code",
   "execution_count": 67,
   "metadata": {},
   "outputs": [
    {
     "name": "stdout",
     "output_type": "stream",
     "text": [
      "0.1054239273071289\n"
     ]
    }
   ],
   "source": [
    "print(listFileSize[12])"
   ]
  },
  {
   "cell_type": "code",
   "execution_count": 68,
   "metadata": {},
   "outputs": [],
   "source": [
    "listReadTime = [File1_ReadTime, File2_ReadTime, File3_ReadTime, File4_ReadTime, File5_ReadTime, File6_ReadTime, File1_ReadTime1, File2_ReadTime1, File3_ReadTime1, File4_ReadTime1, File5_ReadTime1, File6_ReadTime1, File1_ReadTime2, File2_ReadTime2, File3_ReadTime2, File4_ReadTime2, File5_ReadTime2, File6_ReadTime2]"
   ]
  },
  {
   "cell_type": "code",
   "execution_count": 69,
   "metadata": {
    "scrolled": true
   },
   "outputs": [
    {
     "name": "stdout",
     "output_type": "stream",
     "text": [
      "0.85\n"
     ]
    }
   ],
   "source": [
    "print(listReadTime[8])"
   ]
  },
  {
   "cell_type": "code",
   "execution_count": 70,
   "metadata": {},
   "outputs": [
    {
     "data": {
      "image/png": "[encoded data removed]",
      "text/plain": [
       "<Figure size 720x720 with 1 Axes>"
      ]
     },
     "metadata": {
      "needs_background": "light"
     },
     "output_type": "display_data"
    }
   ],
   "source": [
    "plt.figure(num = None, figsize=(10,10))\n",
    "plt.semilogx(listTime, listFileSize)\n",
    "plt.title('Scaling')\n",
    "plt.xlabel('WriteTime in Seconds')\n",
    "plt.ylabel('FileSize in MB')\n",
    "plt.show()"
   ]
  },
  {
   "cell_type": "code",
   "execution_count": 71,
   "metadata": {},
   "outputs": [
    {
     "data": {
      "image/png": "[encoded data removed]",
      "text/plain": [
       "<Figure size 720x720 with 1 Axes>"
      ]
     },
     "metadata": {
      "needs_background": "light"
     },
     "output_type": "display_data"
    }
   ],
   "source": [
    "plt.figure(num = None, figsize=(10,10))\n",
    "plt.semilogx(listReadTime, listFileSize)\n",
    "plt.title('Scaling')\n",
    "plt.xlabel('ReadTime in Seconds')\n",
    "plt.ylabel('FileSize in MB')\n",
    "plt.show()"
   ]
  },
  {
   "cell_type": "code",
   "execution_count": null,
   "metadata": {},
   "outputs": [],
   "source": []
  },
  {
   "cell_type": "code",
   "execution_count": null,
   "metadata": {},
   "outputs": [],
   "source": []
  }
 ],
 "metadata": {
  "kernelspec": {
   "display_name": "Python 3",
   "language": "python",
   "name": "python3"
  },
  "language_info": {
   "codemirror_mode": {
    "name": "ipython",
    "version": 3
   },
   "file_extension": ".py",
   "mimetype": "text/x-python",
   "name": "python",
   "nbconvert_exporter": "python",
   "pygments_lexer": "ipython3",
   "version": "3.8.5"
  }
 },
 "nbformat": 4,
 "nbformat_minor": 2
}
