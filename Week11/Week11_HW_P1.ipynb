{
 "cells": [
  {
   "cell_type": "code",
   "execution_count": 1,
   "metadata": {},
   "outputs": [],
   "source": [
    "import os\n",
    "import json\n",
    "import re"
   ]
  },
  {
   "cell_type": "code",
   "execution_count": 2,
   "metadata": {},
   "outputs": [],
   "source": [
    "def find_all_notebooks(folder='D:/Master DEGREE/UMBC DATA SCIENE SPRING 21/601/601-Data-Science/Week11'):\n",
    "    \"\"\"\n",
    "    Gets file paths and file names for all .ipynb files in a given folder \n",
    "    \n",
    "    Parameters:\n",
    "    –––––––––––\n",
    "    folder: str\n",
    "    \n",
    "    Returns:\n",
    "    ––––––––\n",
    "    paths: list\n",
    "        list of tuples with file path and file name\n",
    "    \"\"\"\n",
    "    paths = []\n",
    "    for root, dirs, files in os.walk(folder):\n",
    "        for file in files:\n",
    "            if any([file.endswith(ft) for ft in ['.ipynb']]):\n",
    "                if 'Week11 Solution' not in file: # optional\n",
    "                    path = (os.path.join(root, file), file)\n",
    "                    paths.append(path)\n",
    "    \n",
    "    return paths"
   ]
  },
  {
   "cell_type": "code",
   "execution_count": 3,
   "metadata": {},
   "outputs": [
    {
     "data": {
      "text/plain": [
       "[('D:/Master DEGREE/UMBC DATA SCIENE SPRING 21/601/601-Data-Science/Week11\\\\Assignment1.ipynb',\n",
       "  'Assignment1.ipynb'),\n",
       " ('D:/Master DEGREE/UMBC DATA SCIENE SPRING 21/601/601-Data-Science/Week11\\\\Assignment2.ipynb',\n",
       "  'Assignment2.ipynb'),\n",
       " ('D:/Master DEGREE/UMBC DATA SCIENE SPRING 21/601/601-Data-Science/Week11\\\\BrowserHistory_Analysis_HW5.ipynb',\n",
       "  'BrowserHistory_Analysis_HW5.ipynb'),\n",
       " ('D:/Master DEGREE/UMBC DATA SCIENE SPRING 21/601/601-Data-Science/Week11\\\\BrowserHistory_Analysis_HWUpdated.ipynb',\n",
       "  'BrowserHistory_Analysis_HWUpdated.ipynb'),\n",
       " ('D:/Master DEGREE/UMBC DATA SCIENE SPRING 21/601/601-Data-Science/Week11\\\\BrowserHistory_Preparation.ipynb',\n",
       "  'BrowserHistory_Preparation.ipynb'),\n",
       " ('D:/Master DEGREE/UMBC DATA SCIENE SPRING 21/601/601-Data-Science/Week11\\\\HWWeek6.ipynb',\n",
       "  'HWWeek6.ipynb'),\n",
       " ('D:/Master DEGREE/UMBC DATA SCIENE SPRING 21/601/601-Data-Science/Week11\\\\Impu_12.ipynb',\n",
       "  'Impu_12.ipynb'),\n",
       " ('D:/Master DEGREE/UMBC DATA SCIENE SPRING 21/601/601-Data-Science/Week11\\\\Impu_32.ipynb',\n",
       "  'Impu_32.ipynb'),\n",
       " ('D:/Master DEGREE/UMBC DATA SCIENE SPRING 21/601/601-Data-Science/Week11\\\\Impu_87.ipynb',\n",
       "  'Impu_87.ipynb')]"
      ]
     },
     "execution_count": 3,
     "metadata": {},
     "output_type": "execute_result"
    }
   ],
   "source": [
    "all_notebooks = find_all_notebooks()\n",
    "all_notebooks[:10]"
   ]
  },
  {
   "cell_type": "code",
   "execution_count": 4,
   "metadata": {},
   "outputs": [],
   "source": [
    "def get_content(path):\n",
    "    with open(path) as f:\n",
    "        lines = f.readlines()\n",
    "        return '\\n'.join(lines)\n"
   ]
  },
  {
   "cell_type": "code",
   "execution_count": 5,
   "metadata": {},
   "outputs": [],
   "source": [
    "def get_modules_from_notebook(path):\n",
    "    modules = []\n",
    "    \n",
    "    text = get_content(path)\n",
    "    \n",
    "    # from nltk.corpus import stopwords \n",
    "    # import pandas\n",
    "    # pattern explanation\n",
    "    # from      literal text\n",
    "    # \\s+       space one or more\n",
    "    # [\\w\\.]+  some any word character _ and . one or more times abb.abb or abAc etc\n",
    "    # \\s+       space one or more\n",
    "    # import    literal text\n",
    "    # \\s+       space one or more\n",
    "    # \\w+       word character (a-zA-z0-9_) one or more\n",
    "    # |  OR \n",
    "    # import     literal text\n",
    "    # \\s+        space one or more\n",
    "    # \\w+        word character (a-zA-z0-9_) one or more\n",
    "    module_lines_iter = re.finditer(r'from\\s+[\\w\\.]+\\s+import\\s+\\w+|import\\s+\\w+', text)\n",
    "    # the reason I'm using finditer is because it returns full match instead of partial matches.\n",
    "    \n",
    "    for m in module_lines_iter:\n",
    "        line = m.group()\n",
    "        line = line.replace(r'from\\s+','')\n",
    "        \n",
    "        line_parts = line.split(' ')\n",
    "        module_part = line_parts[1] # 2. item => nltk.corpus \n",
    "        \n",
    "        # in case it has submodules\n",
    "        module_part = module_part.split('.')[0].strip() # even if it doesn't have any dots, it will return an array the first index is the module\n",
    "        \n",
    "        print (line,'-->', module_part)\n",
    "        modules.append(module_part)\n",
    "        \n",
    "    return modules\n",
    "\n",
    "# get_modules_from_notebook('../../Week1/load_xml.ipynb')\n",
    "# get_modules_from_notebook('../../Week4/homework/AlternativeCsvPreparation.ipynb')"
   ]
  },
  {
   "cell_type": "code",
   "execution_count": 6,
   "metadata": {},
   "outputs": [
    {
     "name": "stdout",
     "output_type": "stream",
     "text": [
      "import pandas --> pandas\n",
      "import matplotlib --> matplotlib\n",
      "import matplotlib --> matplotlib\n",
      "import datetime --> datetime\n",
      "import random --> random\n",
      "import pandas --> pandas\n",
      "import matplotlib --> matplotlib\n",
      "import seaborn --> seaborn\n",
      "import pandas --> pandas\n",
      "import matplotlib --> matplotlib\n",
      "import matplotlib --> matplotlib\n",
      "import pandas --> pandas\n",
      "import matplotlib --> matplotlib\n",
      "import matplotlib --> matplotlib\n",
      "import browserhistory --> browserhistory\n",
      "import pandas --> pandas\n",
      "from urllib.parse import urlparse --> urllib\n",
      "import pandas --> pandas\n",
      "import numpy --> numpy\n",
      "import matplotlib --> matplotlib\n",
      "import xlrd --> xlrd\n",
      "import numpy --> numpy\n",
      "import pandas --> pandas\n",
      "import xlrd --> xlrd\n",
      "import matplotlib --> matplotlib\n",
      "import numpy --> numpy\n",
      "import pandas --> pandas\n",
      "import xlrd --> xlrd\n",
      "import matplotlib --> matplotlib\n"
     ]
    }
   ],
   "source": [
    "all_modules = []\n",
    "\n",
    "for path, file in all_notebooks:\n",
    "    modules = get_modules_from_notebook(path)\n",
    "    all_modules.extend(modules) "
   ]
  },
  {
   "cell_type": "code",
   "execution_count": 7,
   "metadata": {},
   "outputs": [
    {
     "data": {
      "text/plain": [
       "{'browserhistory',\n",
       " 'datetime',\n",
       " 'matplotlib',\n",
       " 'numpy',\n",
       " 'pandas',\n",
       " 'random',\n",
       " 'seaborn',\n",
       " 'urllib',\n",
       " 'xlrd'}"
      ]
     },
     "execution_count": 7,
     "metadata": {},
     "output_type": "execute_result"
    }
   ],
   "source": [
    "set(all_modules )"
   ]
  },
  {
   "cell_type": "code",
   "execution_count": null,
   "metadata": {},
   "outputs": [],
   "source": []
  },
  {
   "cell_type": "code",
   "execution_count": null,
   "metadata": {},
   "outputs": [],
   "source": []
  }
 ],
 "metadata": {
  "kernelspec": {
   "display_name": "Python 3",
   "language": "python",
   "name": "python3"
  },
  "language_info": {
   "codemirror_mode": {
    "name": "ipython",
    "version": 3
   },
   "file_extension": ".py",
   "mimetype": "text/x-python",
   "name": "python",
   "nbconvert_exporter": "python",
   "pygments_lexer": "ipython3",
   "version": "3.8.5"
  },
  "varInspector": {
   "cols": {
    "lenName": 16,
    "lenType": 16,
    "lenVar": 40
   },
   "kernels_config": {
    "python": {
     "delete_cmd_postfix": "",
     "delete_cmd_prefix": "del ",
     "library": "var_list.py",
     "varRefreshCmd": "print(var_dic_list())"
    },
    "r": {
     "delete_cmd_postfix": ") ",
     "delete_cmd_prefix": "rm(",
     "library": "var_list.r",
     "varRefreshCmd": "cat(var_dic_list()) "
    }
   },
   "types_to_exclude": [
    "module",
    "function",
    "builtin_function_or_method",
    "instance",
    "_Feature"
   ],
   "window_display": false
  }
 },
 "nbformat": 4,
 "nbformat_minor": 2
}
